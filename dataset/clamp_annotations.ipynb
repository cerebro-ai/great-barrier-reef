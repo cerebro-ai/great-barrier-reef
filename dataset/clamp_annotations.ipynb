{
 "cells": [
  {
   "cell_type": "code",
   "execution_count": 136,
   "metadata": {},
   "outputs": [],
   "source": [
    "import numpy as np\n",
    "import pandas as pd\n",
    "\n",
    "NEW_COLUMN_NAME = \"clamped_annotations\"\n",
    "MAX_X = 1280\n",
    "MAX_Y = 720"
   ]
  },
  {
   "cell_type": "code",
   "execution_count": 145,
   "metadata": {},
   "outputs": [],
   "source": [
    "def extract(obj, key):\n",
    "    if isinstance(obj, dict):\n",
    "        return obj[key]\n",
    "    else:\n",
    "        return obj\n",
    "\n",
    "\n",
    "def build_annotation(row):\n",
    "    if pd.isna(row[\"annotations\"]):\n",
    "        return np.nan\n",
    "\n",
    "    return {\"x\": int(row[\"x\"]), \"y\": int(row[\"y\"]), \"width\": int(row[\"width\"]), \"height\": int(row[\"new_height\"])}\n",
    "\n",
    "\n",
    "def remove_nan_lists(x):\n",
    "    if pd.isna(x[0]):\n",
    "        return []\n",
    "    else:\n",
    "        return x\n",
    "\n",
    "\n",
    "def create_new_annotations(df):\n",
    "    # read and explode\n",
    "    df[\"annotations\"] = df[\"annotations\"].apply(eval)\n",
    "\n",
    "    df = df.explode(\"annotations\")\n",
    "    \n",
    "    # extract x, y, width, height into seperate columns\n",
    "    df[\"x\"] = df[\"annotations\"].apply(extract, key=\"x\")\n",
    "    df[\"y\"] = df[\"annotations\"].apply(extract, key=\"y\")\n",
    "    df[\"width\"] = df[\"annotations\"].apply(extract, key=\"width\")\n",
    "    df[\"height\"] = df[\"annotations\"].apply(extract, key=\"height\")\n",
    "\n",
    "    df[\"x2\"] = df[\"x\"] + df[\"width\"]\n",
    "    df[\"y2\"] = df[\"y\"] + df[\"height\"]\n",
    "\n",
    "    # create the clamped new coordinates\n",
    "    df[\"clamped_x2\"] = np.minimum(df[\"x2\"], MAX_X)\n",
    "    df[\"clamped_y2\"] = np.minimum(df[\"y2\"], MAX_Y)\n",
    "    \n",
    "    # for statistics only\n",
    "    df[\"new_area\"] = (df.clamped_x2 - df.x) * (df.clamped_y2-df.y)\n",
    "    df[\"old_area\"] = (df.x2 - df.x) * (df.y2-df.y)\n",
    "    df[\"area_share\"] = df[\"new_area\"] / df[\"old_area\"]\n",
    "    assert np.all((df[\"area_share\"]>0.3) | df[\"area_share\"].isna())\n",
    "\n",
    "    df[\"new_height\"] = df[\"clamped_y2\"] - df[\"y\"]\n",
    "    df[\"new_width\"] = df[\"clamped_x2\"] - df[\"x\"]\n",
    "    assert np.all((df.new_height <= df.height) | df.height.isna())\n",
    "    assert np.all((df.new_width <= df.width) | df.width.isna())\n",
    "\n",
    "\n",
    "    df[NEW_COLUMN_NAME] = df.apply(build_annotation, axis=1)\n",
    "\n",
    "    # restore the structure with a new column: new_annotations\n",
    "    new_df = df[[\"video_id\", \"sequence\", \"video_frame\", \"sequence_frame\", \"image_id\", \"annotations\", NEW_COLUMN_NAME]]\n",
    "    new_df = new_df\\\n",
    "        .groupby(\"image_id\")\\\n",
    "        .agg({\"video_id\": \"first\", \"sequence\": \"first\", \"video_frame\": \"first\", \"sequence_frame\": \"first\", \"annotations\": list, NEW_COLUMN_NAME: list})\\\n",
    "        .reset_index()[[\"video_id\", \"sequence\", \"video_frame\", \"sequence_frame\", \"image_id\", \"annotations\", NEW_COLUMN_NAME]]\n",
    "\n",
    "\n",
    "    new_df[\"annotations\"] = new_df[\"annotations\"].apply(remove_nan_lists)\n",
    "    new_df[NEW_COLUMN_NAME] = new_df[NEW_COLUMN_NAME].apply(remove_nan_lists)\n",
    "\n",
    "    return new_df.sort_values([\"video_id\", \"video_frame\"]).reset_index(drop=True)"
   ]
  },
  {
   "cell_type": "code",
   "execution_count": 149,
   "metadata": {},
   "outputs": [
    {
     "name": "stdout",
     "output_type": "stream",
     "text": [
      "train_mini.csv: 4 frames got clamped\n",
      "val_mini.csv: 0 frames got clamped\n"
     ]
    }
   ],
   "source": [
    "for file in [\"train_mini.csv\", \"val_mini.csv\"]:\n",
    "    df = pd.read_csv(file)\n",
    "    new_df = create_new_annotations(df)\n",
    "    changed_lines = new_df[new_df.annotations != new_df[NEW_COLUMN_NAME]]\n",
    "    print(f\"{file}: {len(changed_lines)} frames got clamped\")\n",
    "    new_df.to_csv(f\"{file}\", index=False)"
   ]
  },
  {
   "cell_type": "code",
   "execution_count": null,
   "metadata": {},
   "outputs": [],
   "source": []
  }
 ],
 "metadata": {
  "interpreter": {
   "hash": "be0a380d7000c9a65ec38edde7402fdd8863c2e6cac9484cd7497fdf966d9168"
  },
  "kernelspec": {
   "display_name": "Python 3.8.8 64-bit ('base': conda)",
   "language": "python",
   "name": "python3"
  },
  "language_info": {
   "codemirror_mode": {
    "name": "ipython",
    "version": 3
   },
   "file_extension": ".py",
   "mimetype": "text/x-python",
   "name": "python",
   "nbconvert_exporter": "python",
   "pygments_lexer": "ipython3",
   "version": "3.8.8"
  },
  "orig_nbformat": 4
 },
 "nbformat": 4,
 "nbformat_minor": 2
}
